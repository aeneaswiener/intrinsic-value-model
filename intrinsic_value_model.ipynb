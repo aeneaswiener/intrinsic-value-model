{
  "nbformat": 4,
  "nbformat_minor": 0,
  "metadata": {
    "colab": {
      "name": "intrinsic_value_model.ipynb",
      "provenance": [],
      "collapsed_sections": [],
      "authorship_tag": "ABX9TyPny4WO84VEdxYBkUHSKB/4",
      "include_colab_link": true
    },
    "kernelspec": {
      "name": "python3",
      "display_name": "Python 3"
    }
  },
  "cells": [
    {
      "cell_type": "markdown",
      "metadata": {
        "id": "view-in-github",
        "colab_type": "text"
      },
      "source": [
        "<a href=\"https://colab.research.google.com/github/aeneaswiener/intrinsic-value-model/blob/master/intrinsic_value_model.ipynb\" target=\"_parent\"><img src=\"https://colab.research.google.com/assets/colab-badge.svg\" alt=\"Open In Colab\"/></a>"
      ]
    },
    {
      "cell_type": "markdown",
      "metadata": {
        "id": "BcjyALi02Z0y",
        "colab_type": "text"
      },
      "source": [
        "# Setup\n"
      ]
    },
    {
      "cell_type": "code",
      "metadata": {
        "id": "foEyepJ1IHSq",
        "colab_type": "code",
        "colab": {}
      },
      "source": [
        "%matplotlib inline\n",
        "from copy import copy\n",
        "from google.colab import widgets\n",
        "import numpy as np\n",
        "import pandas as pd\n",
        "import matplotlib.pyplot as plt\n",
        "import matplotlib.ticker as mtick\n",
        "from toolz.dicttoolz import valmap"
      ],
      "execution_count": 1,
      "outputs": []
    },
    {
      "cell_type": "markdown",
      "metadata": {
        "id": "Nmem_S8T0_rf",
        "colab_type": "text"
      },
      "source": [
        "# Simulation setup"
      ]
    },
    {
      "cell_type": "code",
      "metadata": {
        "id": "kVzeVsSFGhbu",
        "colab_type": "code",
        "colab": {}
      },
      "source": [
        "PS_RATIO = 'ps_ratio'\n",
        "PS_RATIO_ACTUAL ='ps_ratio_actual'\n",
        "PE_RATIO = 'pe_ratio'\n",
        "PE_RATIO_ACTUAL = 'pe_ratio_actual'\n",
        "MARKET_CAP_ACTUAL = 'market_cap_actual'\n",
        "PROFIT_MARGIN = 'profit_margin'\n",
        "PROFIT_MARGIN_ACTUAL = 'profit_margin_actual'\n",
        "EARNINGS = 'earnings'\n",
        "EARNINGS_ACTUAL = 'earnings_actual'\n",
        "EARNINGS_INSPECT_YEAR_NPV = 'earnings_inspec_year_npv' # The dicounted value of future ernings at the time of inspect_year\n",
        "EARNINGS_FPV = 'discounted_future_earnings' # sum of all future (after time t) ernings discounted to time t, for all t\n",
        "EARNINGS_FPV_INSPECT_YEAR = \"discounted_future_earnings_inspect_year\"\n",
        "EARNINGS_FPV_PCT_CHANGE = 'discounted_future_earnings_pct_change'\n",
        "EARNINGS_FPV_PCT_CHANGE_INSPECT_YEAR = 'discounted_future_earnings_pct_change_inspect_year'\n",
        "SALES = 'sales'\n",
        "SALES_ACTUAL = 'sales_actual'\n",
        "SALES_GROWTH_RATE = 'sales_growth_rate'\n",
        "YEAR = 'year'\n",
        "ACTUAL = 'actual'\n",
        "INTEREST_RATE = 'interest_rate'\n",
        "TOTAL_EARNINGS_T0_PV = 'total_earnings_t0_pv'\n",
        "TOTAL_EARNINGS_TO_BREAKEVEN = 'total_earnings_to_breakeven'\n",
        "UPPER = 'upper'\n",
        "MID = 'mid'\n",
        "LOWER = 'lower'"
      ],
      "execution_count": 2,
      "outputs": []
    },
    {
      "cell_type": "code",
      "metadata": {
        "id": "lNKS7poVJIW9",
        "colab_type": "code",
        "colab": {}
      },
      "source": [
        "def derivd_company_actuals(company_actuals):\n",
        "  company_actuals[PROFIT_MARGIN_ACTUAL] = company_actuals[EARNINGS_ACTUAL]/company_actuals[SALES_ACTUAL]\n",
        "  company_actuals[PS_RATIO_ACTUAL] = company_actuals[MARKET_CAP_ACTUAL]/company_actuals[SALES_ACTUAL]\n",
        "  company_actuals[PE_RATIO_ACTUAL] = company_actuals[MARKET_CAP_ACTUAL]/company_actuals[EARNINGS_ACTUAL]\n",
        "\n",
        "  return company_actuals"
      ],
      "execution_count": null,
      "outputs": []
    },
    {
      "cell_type": "code",
      "metadata": {
        "id": "0v043GG9G7B2",
        "colab_type": "code",
        "colab": {}
      },
      "source": [
        "def get_sim_results(sim_config):\n",
        "  years_total = 500 \n",
        "\n",
        "  inspect_year=sim_config['inspect_year'] - sim_config['company_founded_year']\n",
        "  interest_rate=sim_config['interest_rate']\n",
        "  sales_growth_years=sim_config['sales_growth_years']\n",
        "  profit_margin_start_value=sim_config['profit_margin_start_value']\n",
        "  profit_margin_terminal_value=sim_config['profit_margin_terminal_value']\n",
        "  sales_start_value=sim_config['sales_start_value']\n",
        "  sales_terminal_value=sim_config['sales_terminal_value']\n",
        "  company_ticker=sim_config['company_ticker']\n",
        "\n",
        "  profit_margin = pd.Series([np.nan]*years_total, name=PROFIT_MARGIN)\n",
        "  profit_margin.index.name = YEAR\n",
        "  profit_margin[0] = profit_margin_start_value\n",
        "  profit_margin[sales_growth_years] = profit_margin_terminal_value\n",
        "  profit_margin[years_total-1] = profit_margin[sales_growth_years]\n",
        "  profit_margin = profit_margin.interpolate(method='linear')\n",
        "\n",
        "  def get_sales(sales_start_value=sales_start_value,\n",
        "                sales_terminal_value=sales_terminal_value,\n",
        "                sales_growth_years=sales_growth_years,\n",
        "                years_total=years_total,\n",
        "                inspect_year=inspect_year):\n",
        "\n",
        "    def y(growth_rate, t):\n",
        "      return sales_start_value*np.power(growth_rate, t)\n",
        "    growth_rate = np.power(sales_terminal_value/sales_start_value, 1/sales_growth_years)\n",
        "\n",
        "    sales = pd.Series([np.nan]*years_total, name=SALES)\n",
        "    sales.index.name = YEAR\n",
        "    sales[0:sales_growth_years] = list(map(lambda t: y(growth_rate, t), sales[0:sales_growth_years].index.to_list()))\n",
        "    sales[0] = sales_start_value\n",
        "    sales[sales_growth_years] = sales_terminal_value\n",
        "    sales[years_total-1] = sales_terminal_value\n",
        "    sales = sales.interpolate(method='linear')\n",
        "\n",
        "    return growth_rate, sales\n",
        "\n",
        "  growth_rate, sales = get_sales(\n",
        "    sales_start_value=sales_start_value,\n",
        "    sales_growth_years=sales_growth_years,\n",
        "    sales_terminal_value=sales_terminal_value,\n",
        "    years_total=years_total\n",
        "  )\n",
        "  earnings = sales*profit_margin\n",
        "  earnings.name = EARNINGS\n",
        "\n",
        "  earnings_inspect_year = earnings[earnings.index >= inspect_year]\n",
        "  earnings_inspect_year_npv = earnings_inspect_year*np.power((1+interest_rate), -earnings_inspect_year.reset_index().index)\n",
        "  earnings_inspect_year_npv.name = EARNINGS_INSPECT_YEAR_NPV\n",
        "\n",
        "  earnings_fpv = earnings.iloc[::-1].expanding().apply(lambda x: np.sum(x*np.power((1+interest_rate), -x.reset_index().iloc[::-1].index))).iloc[::-1]\n",
        "  earnings_fpv.name = EARNINGS_FPV\n",
        "\n",
        "  sim = pd.concat((profit_margin, earnings, earnings_inspect_year_npv, earnings_fpv, sales), axis=1)\n",
        "  sim.index += sim_config['company_founded_year']\n",
        "\n",
        "  sim[PS_RATIO] = sim[EARNINGS_FPV]/sim[SALES]\n",
        "  sim[PE_RATIO] = sim[EARNINGS_FPV]/sim[EARNINGS]\n",
        "\n",
        "  sim[EARNINGS_FPV_PCT_CHANGE] = sim[EARNINGS_FPV].pct_change()\n",
        "\n",
        "  sim_results_metadata = {\n",
        "      SALES_GROWTH_RATE: growth_rate,\n",
        "      EARNINGS_FPV_INSPECT_YEAR: sim.loc[inspect_year + company_founded_year][EARNINGS_FPV],\n",
        "      EARNINGS_FPV_PCT_CHANGE_INSPECT_YEAR: sim.loc[inspect_year + company_founded_year][EARNINGS_FPV_PCT_CHANGE],\n",
        "      TOTAL_EARNINGS_TO_BREAKEVEN: np.sum(earnings[earnings < 0])\n",
        "  }\n",
        "  return sim, sim_results_metadata"
      ],
      "execution_count": 4,
      "outputs": []
    },
    {
      "cell_type": "code",
      "metadata": {
        "id": "gvcJmUKrG-RK",
        "colab_type": "code",
        "colab": {}
      },
      "source": [
        "def plot_sim(sim=None, sim_lower=None, sim_upper=None, company_actuals=None, sim_config=None, sim_results_metadata=None):\n",
        "  # plt.rc('font', size=9)\n",
        "\n",
        "  plot_years = 100\n",
        "\n",
        "  sim = sim.join(company_actuals, how='left')\n",
        "\n",
        "  sim_range = (\n",
        "    pd.concat(\n",
        "      [sim_lower, \n",
        "      sim_upper],\n",
        "      axis=1, \n",
        "      keys=['lower', 'upper'])\n",
        "    .swaplevel(0, 1, axis=1)\n",
        "    .sort_index(axis=1, ascending=[True, False])\n",
        "  )\n",
        "  print('Inputs')\n",
        "  grid0 = widgets.Grid(1, 1)\n",
        "  with grid0.output_to(0, 0):\n",
        "    df = pd.DataFrame.from_dict({\n",
        "      \"Value\": list(sim_config.values()), \n",
        "      \"-margin\": list(sim_config_lower.values()), \n",
        "      \"+margin\": list(sim_config_upper.values())\n",
        "    })\n",
        "    df.index = sim_config.keys()\n",
        "    print(df)\n",
        "\n",
        "  print('Results')\n",
        "  grid = widgets.Grid(2, 4, style=\"vertical-align: top;\")\n",
        "  inspect_year=sim_config['inspect_year']\n",
        "  company_ticker=sim_config['company_ticker']\n",
        "  growth_rate = sim_results_metadata[SALES_GROWTH_RATE]\n",
        "\n",
        "  with grid.output_to(0, 0):\n",
        "    ax = sim[[SALES, SALES_ACTUAL]][:plot_years].plot(style=['.-', '.'], color=['orange', 'red'], figsize=(4,4))\n",
        "    ax.fill_between(sim.index, sim_range[SALES][LOWER], sim_range[SALES][UPPER], facecolor='grey', alpha=0.3, label=None)\n",
        "    ax.axvline(inspect_year, color=\"grey\", linestyle=\"--\")\n",
        "    ax.set_title(\"%s sales\" % company_ticker)\n",
        "    ax.set_ylabel(\"billion (USD)\")\n",
        "    ax.set_xlim(sim_config['company_founded_year'], sim_config['company_founded_year'] + plot_years)\n",
        "    plt.legend(bbox_to_anchor=(1.02, -0.15), loc='upper right',\n",
        "               labels=[\"sales {:.2%} growth/yr)\".format(growth_rate-1), SALES_ACTUAL])\n",
        "  with grid.output_to(0, 1):\n",
        "    ax = sim[[PROFIT_MARGIN, PROFIT_MARGIN_ACTUAL]][:plot_years].plot(style=['.-', '.'], color=['orange', 'red'], figsize=(4,4))\n",
        "    ax.fill_between(sim.index, sim_range[PROFIT_MARGIN][LOWER], sim_range[PROFIT_MARGIN][UPPER], facecolor='grey', alpha=0.3, label=None)\n",
        "    ax.set_title(\"%s profit margin\" % company_ticker)\n",
        "    ax.axvline(inspect_year, color=\"grey\", linestyle=\"--\")\n",
        "    ax.set_xlim(sim_config['company_founded_year'], sim_config['company_founded_year'] + plot_years)\n",
        "    ax.yaxis.set_major_formatter(mtick.PercentFormatter(decimals=2))\n",
        "    plt.legend(bbox_to_anchor=(1.02, -0.15), loc='upper right')\n",
        "  with grid.output_to(0, 2):\n",
        "    ax = sim[[EARNINGS, EARNINGS_INSPECT_YEAR_NPV, EARNINGS_ACTUAL]][:plot_years].plot(style=['.-', '.-', '.'], color=['black', 'grey', 'red'], figsize=(4,4))\n",
        "    ax.fill_between(sim.index, sim_range[EARNINGS][LOWER], sim_range[EARNINGS][UPPER], facecolor='grey', alpha=0.3, label=None)\n",
        "    ax.fill_between(sim.index, sim_range[EARNINGS_INSPECT_YEAR_NPV][LOWER], sim_range[EARNINGS_INSPECT_YEAR_NPV][UPPER], where=sim.index > inspect_year, facecolor='grey', alpha=0.3, label=None)\n",
        "    # ax.fill_between(sim.index, [0]*len(sim.index), sim[EARNINGS], where=sim.index < inspect_year, facecolor='grey', alpha=0.3, label=\"past earnings\")\n",
        "    # ax.fill_between(sim.index, [0]*len(sim.index), sim[EARNINGS_INSPECT_YEAR_NPV], where=sim.index > inspect_year, facecolor='blue', alpha=0.3, label=\"future earnings (discounted)\")\n",
        "    ax.set_xlim(sim_config['company_founded_year'], sim_config['company_founded_year'] + plot_years)\n",
        "    ax.set_title(\"%s earnings\" % company_ticker)\n",
        "    ax.set_ylabel(\"billion (USD)\")\n",
        "    ax.axvline(inspect_year, color=\"grey\", linestyle=\"--\")\n",
        "    plt.legend(bbox_to_anchor=(1.02, -0.15), loc='upper right')\n",
        "  with grid.output_to(0, 3):\n",
        "    ax = sim[[EARNINGS_FPV, MARKET_CAP_ACTUAL]][:plot_years].plot(style=['.-', '.'], color=['black', 'red'], figsize=(4,4))\n",
        "    ax.fill_between(sim.index, sim_range[EARNINGS_FPV][LOWER], sim_range[EARNINGS_FPV][UPPER], facecolor='grey', alpha=0.3, label=None)\n",
        "    ax.set_title(\"%s valuation\" % company_ticker)\n",
        "    ax.set_ylabel(\"billion (USD)\")\n",
        "    ax.axvline(inspect_year, color=\"grey\", linestyle=\"--\")\n",
        "    x = sim.index\n",
        "    y_sim = sim[EARNINGS_FPV]\n",
        "    y_act = sim[MARKET_CAP_ACTUAL]\n",
        "    ax.fill_between(x, y_sim, y_act, where=y_sim > y_act, facecolor='green', alpha=0.3, label=\"undervalued\")\n",
        "    ax.fill_between(x, y_sim, y_act, where=y_sim <= y_act, facecolor='red', alpha=0.3, label=\"overvalued\")\n",
        "    ax.set_xlim(sim_config['company_founded_year'], sim_config['company_founded_year'] + plot_years)\n",
        "    plt.legend()\n",
        "    plt.legend(bbox_to_anchor=(1.02, -0.15), loc='upper right')\n",
        "    plt.show()\n",
        "  with grid.output_to(1, 0):\n",
        "    ax = sim[[PS_RATIO, PS_RATIO_ACTUAL]][:plot_years].plot(style=['.-', '.'], color=['black', 'red'], figsize=(4,4))\n",
        "    ax.fill_between(sim.index, sim_range[PS_RATIO][LOWER], sim_range[PS_RATIO][UPPER], facecolor='grey', alpha=0.3, label=None)\n",
        "    ax.set_title(\"Price/Sales ratio\")\n",
        "    ax.set_ylabel(\"P/S\")\n",
        "    ax.axvline(inspect_year, color=\"grey\", linestyle=\"--\")\n",
        "    ax.set_xlim(sim_config['company_founded_year'], sim_config['company_founded_year'] + plot_years)\n",
        "    plt.legend(bbox_to_anchor=(1.02, -0.15), loc='upper right')\n",
        "  with grid.output_to(1, 2):\n",
        "    ax = sim[[PE_RATIO, PE_RATIO_ACTUAL]][:plot_years].plot(style=['.-', '.'], color=['black', 'red'], figsize=(4,4))\n",
        "    ax.fill_between(sim.index, sim_range[PE_RATIO][LOWER], sim_range[PE_RATIO][UPPER], facecolor='grey', alpha=0.3, label=None)\n",
        "    ax.set_title(\"Price/Earnings ratio\")\n",
        "    ax.set_ylabel(\"P/E\")\n",
        "    ax.axvline(inspect_year, color=\"grey\", linestyle=\"--\")\n",
        "    ax.set_xlim(sim_config['company_founded_year'], sim_config['company_founded_year'] + plot_years)\n",
        "    plt.legend(bbox_to_anchor=(1.02, -0.15), loc='upper right')\n",
        "\n",
        "  print('Results metadata')\n",
        "  grid2 = widgets.Grid(1, 1)\n",
        "  with grid2.output_to(0, 0):\n",
        "    df = pd.DataFrame.from_dict(valmap(lambda x: [x], sim_results_meta), orient='index',\n",
        "                        columns=['Value']).rename_axis('result')\n",
        "    print(df)"
      ],
      "execution_count": 5,
      "outputs": []
    },
    {
      "cell_type": "code",
      "metadata": {
        "id": "SuIWyPWFHKcn",
        "colab_type": "code",
        "colab": {
          "base_uri": "https://localhost:8080/",
          "height": 1000
        },
        "outputId": "c82a55bc-c365-4141-8ba6-73eeb896eb33"
      },
      "source": [
        "#@title Simulation\n",
        "\n",
        "interest_rate = 0.05 #@param {type:\"number\"}\n",
        "\n",
        "profit_margin_start_value = 0.15 #@param {type:\"number\"}\n",
        "profit_margin_terminal_value = 0.3 #@param {type:\"number\"}\n",
        "\n",
        "sales_start_value =  10#@param {type:\"number\"}\n",
        "sales_terminal_value =  500#@param {type:\"number\"}\n",
        "sales_growth_years = 70 #@param {type:\"number\"}\n",
        "\n",
        "company_founded_year = 1975 #@param {type:\"number\"}\n",
        "inspect_year=2020 #-company_founded_year\n",
        "company_ticker = 'MSFT' #@param {type:\"string\"}\n",
        "\n",
        "company_actuals_raw = pd.DataFrame.from_dict({\n",
        "  'sales_actual': {\n",
        "    2009: 58.43,\n",
        "    2010: 62.48,\n",
        "    2011: 69.94,\n",
        "    2012: 73.72,\n",
        "    2013: 77.84,\n",
        "    2014: 86.83,\n",
        "    2015: 93.58,\n",
        "    2016: 91.15,\n",
        "    2017: 96.57,\n",
        "    2018: 110.36,\n",
        "    2019: 125.84,\n",
        "    2020: 143.01\n",
        "  },\n",
        "  'earnings_actual': {\n",
        "    2009: 14.56,\n",
        "    2010: 18.76,\n",
        "    2011: 23.15,\n",
        "    2012: 16.97,\n",
        "    2013: 21.86,\n",
        "    2014: 22.07,\n",
        "    2015: 12.19,\n",
        "    2016: 20.53,\n",
        "    2017: 25.48,\n",
        "    2018: 16.57,\n",
        "    2019: 39.24,\n",
        "    2020: 44.28\n",
        "  },\n",
        " 'market_cap_actual': {\n",
        "    2009: 272.95,\n",
        "    2010: 244.48,\n",
        "    2011: 221.74,\n",
        "    2012: 227.08,\n",
        "    2013: 315.84,\n",
        "    2014: 388.03,\n",
        "    2015: 450.81,\n",
        "    2016: 494.69,\n",
        "    2017: 668.30,\n",
        "    2018: 792.27,\n",
        "    2019: 1217.40,\n",
        "    2020: 1500.00\n",
        "  }\n",
        "})\n",
        "company_actuals_raw.index.name = YEAR\n",
        "company_actuals = derivd_company_actuals(company_actuals_raw)\n",
        "\n",
        "sim_config = dict(\n",
        "    company_founded_year=company_founded_year,\n",
        "    inspect_year=inspect_year,\n",
        "    interest_rate=interest_rate,\n",
        "    sales_growth_years=sales_growth_years,\n",
        "    profit_margin_start_value=profit_margin_start_value,\n",
        "    profit_margin_terminal_value=profit_margin_terminal_value,\n",
        "    sales_start_value=sales_start_value,\n",
        "    sales_terminal_value=sales_terminal_value,\n",
        "    company_ticker=company_ticker,\n",
        "    input_data='simfin'\n",
        ")\n",
        "\n",
        "sim_results, sim_results_meta = get_sim_results(sim_config)\n",
        "\n",
        "sim_config_upper = copy(sim_config)\n",
        "sim_config_lower = copy(sim_config)\n",
        "sim_config_upper['interest_rate'] *= 1.5\n",
        "sim_config_lower['interest_rate'] *= 0.5\n",
        "sim_results_upper, sim_results_upper_meta = get_sim_results(sim_config_upper)\n",
        "sim_results_lower, sim_results_lower_meta = get_sim_results(sim_config_lower)\n",
        "\n",
        "plot_sim(\n",
        "    sim=sim_results, \n",
        "    sim_lower=sim_results_lower,\n",
        "    sim_upper=sim_results_upper,\n",
        "    company_actuals=company_actuals,\n",
        "    sim_config=sim_config,\n",
        "    sim_results_metadata=sim_results_meta\n",
        ")"
      ],
      "execution_count": 8,
      "outputs": [
        {
          "output_type": "stream",
          "text": [
            "Inputs\n"
          ],
          "name": "stdout"
        },
        {
          "output_type": "display_data",
          "data": {
            "text/html": [
              "<style>\n",
              "       table#id8, #id8 > tbody > tr > th, #id8 > tbody > tr > td {\n",
              "         border: 1px solid lightgray;\n",
              "         border-collapse:collapse;\n",
              "         \n",
              "        }</style>"
            ],
            "text/plain": [
              "<IPython.core.display.HTML object>"
            ]
          },
          "metadata": {
            "tags": [
              "outputarea_id8"
            ]
          }
        },
        {
          "output_type": "display_data",
          "data": {
            "text/html": [
              "<table id=id8><tr><td id=id8-0-0></td></tr></table>"
            ],
            "text/plain": [
              "<IPython.core.display.HTML object>"
            ]
          },
          "metadata": {
            "tags": [
              "outputarea_id8"
            ]
          }
        },
        {
          "output_type": "display_data",
          "data": {
            "application/javascript": [
              "window[\"710e1680-fb2f-11ea-9e86-0242ac1c0002\"] = google.colab.output.getActiveOutputArea();\n",
              "//# sourceURL=js_b9ee7a6f2f"
            ],
            "text/plain": [
              "<IPython.core.display.Javascript object>"
            ]
          },
          "metadata": {
            "tags": [
              "id8-0-0",
              "outputarea_id8"
            ]
          }
        },
        {
          "output_type": "display_data",
          "data": {
            "application/javascript": [
              "window[\"710e6b76-fb2f-11ea-9e86-0242ac1c0002\"] = document.querySelector(\"#id8-0-0\");\n",
              "//# sourceURL=js_c6157cb243"
            ],
            "text/plain": [
              "<IPython.core.display.Javascript object>"
            ]
          },
          "metadata": {
            "tags": [
              "id8-0-0",
              "outputarea_id8"
            ]
          }
        },
        {
          "output_type": "display_data",
          "data": {
            "application/javascript": [
              "window[\"710ebd88-fb2f-11ea-9e86-0242ac1c0002\"] = google.colab.output.setActiveOutputArea(window[\"710e6b76-fb2f-11ea-9e86-0242ac1c0002\"]);\n",
              "//# sourceURL=js_82b72fd9ee"
            ],
            "text/plain": [
              "<IPython.core.display.Javascript object>"
            ]
          },
          "metadata": {
            "tags": [
              "id8-0-0",
              "outputarea_id8"
            ]
          }
        },
        {
          "output_type": "stream",
          "text": [
            "                               Value -margin +margin\n",
            "company_founded_year            1975    1975    1975\n",
            "inspect_year                    2020    2020    2020\n",
            "interest_rate                   0.05   0.025   0.075\n",
            "sales_growth_years                70      70      70\n",
            "profit_margin_start_value       0.15    0.15    0.15\n",
            "profit_margin_terminal_value     0.3     0.3     0.3\n",
            "sales_start_value                 10      10      10\n",
            "sales_terminal_value             500     500     500\n",
            "company_ticker                  MSFT    MSFT    MSFT\n",
            "input_data                    simfin  simfin  simfin\n"
          ],
          "name": "stdout"
        },
        {
          "output_type": "display_data",
          "data": {
            "application/javascript": [
              "window[\"7112223e-fb2f-11ea-9e86-0242ac1c0002\"] = google.colab.output.setActiveOutputArea(window[\"710e1680-fb2f-11ea-9e86-0242ac1c0002\"]);\n",
              "//# sourceURL=js_7c3587f690"
            ],
            "text/plain": [
              "<IPython.core.display.Javascript object>"
            ]
          },
          "metadata": {
            "tags": [
              "id8-0-0",
              "outputarea_id8"
            ]
          }
        },
        {
          "output_type": "stream",
          "text": [
            "Results\n"
          ],
          "name": "stdout"
        },
        {
          "output_type": "display_data",
          "data": {
            "text/html": [
              "<style>\n",
              "       table#id10, #id10 > tbody > tr > th, #id10 > tbody > tr > td {\n",
              "         border: 1px solid lightgray;\n",
              "         border-collapse:collapse;\n",
              "         vertical-align: top;\n",
              "        }</style>"
            ],
            "text/plain": [
              "<IPython.core.display.HTML object>"
            ]
          },
          "metadata": {
            "tags": [
              "outputarea_id10"
            ]
          }
        },
        {
          "output_type": "display_data",
          "data": {
            "text/html": [
              "<table id=id10><tr><td id=id10-0-0></td><td id=id10-0-1></td><td id=id10-0-2></td><td id=id10-0-3></td></tr><tr><td id=id10-1-0></td><td id=id10-1-1></td><td id=id10-1-2></td><td id=id10-1-3></td></tr></table>"
            ],
            "text/plain": [
              "<IPython.core.display.HTML object>"
            ]
          },
          "metadata": {
            "tags": [
              "outputarea_id10"
            ]
          }
        },
        {
          "output_type": "display_data",
          "data": {
            "application/javascript": [
              "window[\"7115fe54-fb2f-11ea-9e86-0242ac1c0002\"] = google.colab.output.getActiveOutputArea();\n",
              "//# sourceURL=js_828bf01d68"
            ],
            "text/plain": [
              "<IPython.core.display.Javascript object>"
            ]
          },
          "metadata": {
            "tags": [
              "id10-0-0",
              "outputarea_id10"
            ]
          }
        },
        {
          "output_type": "display_data",
          "data": {
            "application/javascript": [
              "window[\"711646a2-fb2f-11ea-9e86-0242ac1c0002\"] = document.querySelector(\"#id10-0-0\");\n",
              "//# sourceURL=js_39432d15e2"
            ],
            "text/plain": [
              "<IPython.core.display.Javascript object>"
            ]
          },
          "metadata": {
            "tags": [
              "id10-0-0",
              "outputarea_id10"
            ]
          }
        },
        {
          "output_type": "display_data",
          "data": {
            "application/javascript": [
              "window[\"7116a188-fb2f-11ea-9e86-0242ac1c0002\"] = google.colab.output.setActiveOutputArea(window[\"711646a2-fb2f-11ea-9e86-0242ac1c0002\"]);\n",
              "//# sourceURL=js_a9da13126e"
            ],
            "text/plain": [
              "<IPython.core.display.Javascript object>"
            ]
          },
          "metadata": {
            "tags": [
              "id10-0-0",
              "outputarea_id10"
            ]
          }
        },
        {
          "output_type": "display_data",
          "data": {
            "image/png": "[encoded data removed]",
            "text/plain": [
              "<Figure size 288x288 with 1 Axes>"
            ]
          },
          "metadata": {
            "tags": [
              "id10-0-0",
              "outputarea_id10",
              "user_output"
            ],
            "needs_background": "light"
          }
        },
        {
          "output_type": "display_data",
          "data": {
            "application/javascript": [
              "window[\"7136d02a-fb2f-11ea-9e86-0242ac1c0002\"] = google.colab.output.setActiveOutputArea(window[\"7115fe54-fb2f-11ea-9e86-0242ac1c0002\"]);\n",
              "//# sourceURL=js_9ed8650853"
            ],
            "text/plain": [
              "<IPython.core.display.Javascript object>"
            ]
          },
          "metadata": {
            "tags": [
              "id10-0-0",
              "outputarea_id10"
            ]
          }
        },
        {
          "output_type": "display_data",
          "data": {
            "application/javascript": [
              "window[\"713842de-fb2f-11ea-9e86-0242ac1c0002\"] = google.colab.output.getActiveOutputArea();\n",
              "//# sourceURL=js_8010fbaa9e"
            ],
            "text/plain": [
              "<IPython.core.display.Javascript object>"
            ]
          },
          "metadata": {
            "tags": [
              "id10-0-1",
              "outputarea_id10"
            ]
          }
        },
        {
          "output_type": "display_data",
          "data": {
            "application/javascript": [
              "window[\"71389144-fb2f-11ea-9e86-0242ac1c0002\"] = document.querySelector(\"#id10-0-1\");\n",
              "//# sourceURL=js_33b1932e5d"
            ],
            "text/plain": [
              "<IPython.core.display.Javascript object>"
            ]
          },
          "metadata": {
            "tags": [
              "id10-0-1",
              "outputarea_id10"
            ]
          }
        },
        {
          "output_type": "display_data",
          "data": {
            "application/javascript": [
              "window[\"7138d9c4-fb2f-11ea-9e86-0242ac1c0002\"] = google.colab.output.setActiveOutputArea(window[\"71389144-fb2f-11ea-9e86-0242ac1c0002\"]);\n",
              "//# sourceURL=js_9db176dbf1"
            ],
            "text/plain": [
              "<IPython.core.display.Javascript object>"
            ]
          },
          "metadata": {
            "tags": [
              "id10-0-1",
              "outputarea_id10"
            ]
          }
        },
        {
          "output_type": "display_data",
          "data": {
            "image/png": "[encoded data removed]",
            "text/plain": [
              "<Figure size 288x288 with 1 Axes>"
            ]
          },
          "metadata": {
            "tags": [
              "id10-0-1",
              "outputarea_id10",
              "user_output"
            ],
            "needs_background": "light"
          }
        },
        {
          "output_type": "display_data",
          "data": {
            "application/javascript": [
              "window[\"715a0766-fb2f-11ea-9e86-0242ac1c0002\"] = google.colab.output.setActiveOutputArea(window[\"713842de-fb2f-11ea-9e86-0242ac1c0002\"]);\n",
              "//# sourceURL=js_2bd7c43d83"
            ],
            "text/plain": [
              "<IPython.core.display.Javascript object>"
            ]
          },
          "metadata": {
            "tags": [
              "id10-0-1",
              "outputarea_id10"
            ]
          }
        },
        {
          "output_type": "display_data",
          "data": {
            "application/javascript": [
              "window[\"715c9878-fb2f-11ea-9e86-0242ac1c0002\"] = google.colab.output.getActiveOutputArea();\n",
              "//# sourceURL=js_0a615e7970"
            ],
            "text/plain": [
              "<IPython.core.display.Javascript object>"
            ]
          },
          "metadata": {
            "tags": [
              "id10-0-2",
              "outputarea_id10"
            ]
          }
        },
        {
          "output_type": "display_data",
          "data": {
            "application/javascript": [
              "window[\"715d0786-fb2f-11ea-9e86-0242ac1c0002\"] = document.querySelector(\"#id10-0-2\");\n",
              "//# sourceURL=js_181992366d"
            ],
            "text/plain": [
              "<IPython.core.display.Javascript object>"
            ]
          },
          "metadata": {
            "tags": [
              "id10-0-2",
              "outputarea_id10"
            ]
          }
        },
        {
          "output_type": "display_data",
          "data": {
            "application/javascript": [
              "window[\"715d53bc-fb2f-11ea-9e86-0242ac1c0002\"] = google.colab.output.setActiveOutputArea(window[\"715d0786-fb2f-11ea-9e86-0242ac1c0002\"]);\n",
              "//# sourceURL=js_f343f71c57"
            ],
            "text/plain": [
              "<IPython.core.display.Javascript object>"
            ]
          },
          "metadata": {
            "tags": [
              "id10-0-2",
              "outputarea_id10"
            ]
          }
        },
        {
          "output_type": "display_data",
          "data": {
            "image/png": "[encoded data removed]",
            "text/plain": [
              "<Figure size 288x288 with 1 Axes>"
            ]
          },
          "metadata": {
            "tags": [
              "id10-0-2",
              "outputarea_id10",
              "user_output"
            ],
            "needs_background": "light"
          }
        },
        {
          "output_type": "display_data",
          "data": {
            "application/javascript": [
              "window[\"717e66ec-fb2f-11ea-9e86-0242ac1c0002\"] = google.colab.output.setActiveOutputArea(window[\"715c9878-fb2f-11ea-9e86-0242ac1c0002\"]);\n",
              "//# sourceURL=js_fb60563774"
            ],
            "text/plain": [
              "<IPython.core.display.Javascript object>"
            ]
          },
          "metadata": {
            "tags": [
              "id10-0-2",
              "outputarea_id10"
            ]
          }
        },
        {
          "output_type": "display_data",
          "data": {
            "application/javascript": [
              "window[\"7181041a-fb2f-11ea-9e86-0242ac1c0002\"] = google.colab.output.getActiveOutputArea();\n",
              "//# sourceURL=js_6b2d3bbaf5"
            ],
            "text/plain": [
              "<IPython.core.display.Javascript object>"
            ]
          },
          "metadata": {
            "tags": [
              "id10-0-3",
              "outputarea_id10"
            ]
          }
        },
        {
          "output_type": "display_data",
          "data": {
            "application/javascript": [
              "window[\"71816cd4-fb2f-11ea-9e86-0242ac1c0002\"] = document.querySelector(\"#id10-0-3\");\n",
              "//# sourceURL=js_ee9b35c336"
            ],
            "text/plain": [
              "<IPython.core.display.Javascript object>"
            ]
          },
          "metadata": {
            "tags": [
              "id10-0-3",
              "outputarea_id10"
            ]
          }
        },
        {
          "output_type": "display_data",
          "data": {
            "application/javascript": [
              "window[\"7181d67e-fb2f-11ea-9e86-0242ac1c0002\"] = google.colab.output.setActiveOutputArea(window[\"71816cd4-fb2f-11ea-9e86-0242ac1c0002\"]);\n",
              "//# sourceURL=js_a4787cdf9b"
            ],
            "text/plain": [
              "<IPython.core.display.Javascript object>"
            ]
          },
          "metadata": {
            "tags": [
              "id10-0-3",
              "outputarea_id10"
            ]
          }
        },
        {
          "output_type": "display_data",
          "data": {
            "image/png": "[encoded data removed]",
            "text/plain": [
              "<Figure size 288x288 with 1 Axes>"
            ]
          },
          "metadata": {
            "tags": [
              "id10-0-3",
              "outputarea_id10",
              "user_output"
            ],
            "needs_background": "light"
          }
        },
        {
          "output_type": "display_data",
          "data": {
            "application/javascript": [
              "window[\"71a653a0-fb2f-11ea-9e86-0242ac1c0002\"] = google.colab.output.setActiveOutputArea(window[\"7181041a-fb2f-11ea-9e86-0242ac1c0002\"]);\n",
              "//# sourceURL=js_03ea25b527"
            ],
            "text/plain": [
              "<IPython.core.display.Javascript object>"
            ]
          },
          "metadata": {
            "tags": [
              "id10-0-3",
              "outputarea_id10"
            ]
          }
        },
        {
          "output_type": "display_data",
          "data": {
            "application/javascript": [
              "window[\"71a90c4e-fb2f-11ea-9e86-0242ac1c0002\"] = google.colab.output.getActiveOutputArea();\n",
              "//# sourceURL=js_b432480d57"
            ],
            "text/plain": [
              "<IPython.core.display.Javascript object>"
            ]
          },
          "metadata": {
            "tags": [
              "id10-1-0",
              "outputarea_id10"
            ]
          }
        },
        {
          "output_type": "display_data",
          "data": {
            "application/javascript": [
              "window[\"71a97666-fb2f-11ea-9e86-0242ac1c0002\"] = document.querySelector(\"#id10-1-0\");\n",
              "//# sourceURL=js_31961b33c4"
            ],
            "text/plain": [
              "<IPython.core.display.Javascript object>"
            ]
          },
          "metadata": {
            "tags": [
              "id10-1-0",
              "outputarea_id10"
            ]
          }
        },
        {
          "output_type": "display_data",
          "data": {
            "application/javascript": [
              "window[\"71a9c08a-fb2f-11ea-9e86-0242ac1c0002\"] = google.colab.output.setActiveOutputArea(window[\"71a97666-fb2f-11ea-9e86-0242ac1c0002\"]);\n",
              "//# sourceURL=js_0b81bb9c81"
            ],
            "text/plain": [
              "<IPython.core.display.Javascript object>"
            ]
          },
          "metadata": {
            "tags": [
              "id10-1-0",
              "outputarea_id10"
            ]
          }
        },
        {
          "output_type": "display_data",
          "data": {
            "image/png": "[encoded data removed]",
            "text/plain": [
              "<Figure size 288x288 with 1 Axes>"
            ]
          },
          "metadata": {
            "tags": [
              "id10-1-0",
              "outputarea_id10",
              "user_output"
            ],
            "needs_background": "light"
          }
        },
        {
          "output_type": "display_data",
          "data": {
            "application/javascript": [
              "window[\"71d4db9e-fb2f-11ea-9e86-0242ac1c0002\"] = google.colab.output.setActiveOutputArea(window[\"71a90c4e-fb2f-11ea-9e86-0242ac1c0002\"]);\n",
              "//# sourceURL=js_eed829bfda"
            ],
            "text/plain": [
              "<IPython.core.display.Javascript object>"
            ]
          },
          "metadata": {
            "tags": [
              "id10-1-0",
              "outputarea_id10"
            ]
          }
        },
        {
          "output_type": "display_data",
          "data": {
            "application/javascript": [
              "window[\"71d6d8fe-fb2f-11ea-9e86-0242ac1c0002\"] = google.colab.output.getActiveOutputArea();\n",
              "//# sourceURL=js_59cdfd1fe6"
            ],
            "text/plain": [
              "<IPython.core.display.Javascript object>"
            ]
          },
          "metadata": {
            "tags": [
              "id10-1-2",
              "outputarea_id10"
            ]
          }
        },
        {
          "output_type": "display_data",
          "data": {
            "application/javascript": [
              "window[\"71d71d64-fb2f-11ea-9e86-0242ac1c0002\"] = document.querySelector(\"#id10-1-2\");\n",
              "//# sourceURL=js_7e4aa0a31a"
            ],
            "text/plain": [
              "<IPython.core.display.Javascript object>"
            ]
          },
          "metadata": {
            "tags": [
              "id10-1-2",
              "outputarea_id10"
            ]
          }
        },
        {
          "output_type": "display_data",
          "data": {
            "application/javascript": [
              "window[\"71d763e6-fb2f-11ea-9e86-0242ac1c0002\"] = google.colab.output.setActiveOutputArea(window[\"71d71d64-fb2f-11ea-9e86-0242ac1c0002\"]);\n",
              "//# sourceURL=js_adf1f9588e"
            ],
            "text/plain": [
              "<IPython.core.display.Javascript object>"
            ]
          },
          "metadata": {
            "tags": [
              "id10-1-2",
              "outputarea_id10"
            ]
          }
        },
        {
          "output_type": "display_data",
          "data": {
            "image/png": "[encoded data removed]",
            "text/plain": [
              "<Figure size 288x288 with 1 Axes>"
            ]
          },
          "metadata": {
            "tags": [
              "id10-1-2",
              "outputarea_id10",
              "user_output"
            ],
            "needs_background": "light"
          }
        },
        {
          "output_type": "display_data",
          "data": {
            "application/javascript": [
              "window[\"71f6c998-fb2f-11ea-9e86-0242ac1c0002\"] = google.colab.output.setActiveOutputArea(window[\"71d6d8fe-fb2f-11ea-9e86-0242ac1c0002\"]);\n",
              "//# sourceURL=js_842942a43f"
            ],
            "text/plain": [
              "<IPython.core.display.Javascript object>"
            ]
          },
          "metadata": {
            "tags": [
              "id10-1-2",
              "outputarea_id10"
            ]
          }
        },
        {
          "output_type": "stream",
          "text": [
            "Results metadata\n"
          ],
          "name": "stdout"
        },
        {
          "output_type": "display_data",
          "data": {
            "text/html": [
              "<style>\n",
              "       table#id12, #id12 > tbody > tr > th, #id12 > tbody > tr > td {\n",
              "         border: 1px solid lightgray;\n",
              "         border-collapse:collapse;\n",
              "         \n",
              "        }</style>"
            ],
            "text/plain": [
              "<IPython.core.display.HTML object>"
            ]
          },
          "metadata": {
            "tags": [
              "outputarea_id12"
            ]
          }
        },
        {
          "output_type": "display_data",
          "data": {
            "text/html": [
              "<table id=id12><tr><td id=id12-0-0></td></tr></table>"
            ],
            "text/plain": [
              "<IPython.core.display.HTML object>"
            ]
          },
          "metadata": {
            "tags": [
              "outputarea_id12"
            ]
          }
        },
        {
          "output_type": "display_data",
          "data": {
            "application/javascript": [
              "window[\"71faefdc-fb2f-11ea-9e86-0242ac1c0002\"] = google.colab.output.getActiveOutputArea();\n",
              "//# sourceURL=js_c13eb6aaa6"
            ],
            "text/plain": [
              "<IPython.core.display.Javascript object>"
            ]
          },
          "metadata": {
            "tags": [
              "id12-0-0",
              "outputarea_id12"
            ]
          }
        },
        {
          "output_type": "display_data",
          "data": {
            "application/javascript": [
              "window[\"71fb3d3e-fb2f-11ea-9e86-0242ac1c0002\"] = document.querySelector(\"#id12-0-0\");\n",
              "//# sourceURL=js_9d3fed9fbf"
            ],
            "text/plain": [
              "<IPython.core.display.Javascript object>"
            ]
          },
          "metadata": {
            "tags": [
              "id12-0-0",
              "outputarea_id12"
            ]
          }
        },
        {
          "output_type": "display_data",
          "data": {
            "application/javascript": [
              "window[\"71fb8848-fb2f-11ea-9e86-0242ac1c0002\"] = google.colab.output.setActiveOutputArea(window[\"71fb3d3e-fb2f-11ea-9e86-0242ac1c0002\"]);\n",
              "//# sourceURL=js_8186dcb65f"
            ],
            "text/plain": [
              "<IPython.core.display.Javascript object>"
            ]
          },
          "metadata": {
            "tags": [
              "id12-0-0",
              "outputarea_id12"
            ]
          }
        },
        {
          "output_type": "stream",
          "text": [
            "                                                          Value\n",
            "result                                                         \n",
            "sales_growth_rate                                      1.057477\n",
            "discounted_future_earnings_inspect_year             1850.102578\n",
            "discounted_future_earnings_pct_change_inspect_year     0.033250\n",
            "total_earnings_to_breakeven                            0.000000\n"
          ],
          "name": "stdout"
        },
        {
          "output_type": "display_data",
          "data": {
            "application/javascript": [
              "window[\"71fe0aaa-fb2f-11ea-9e86-0242ac1c0002\"] = google.colab.output.setActiveOutputArea(window[\"71faefdc-fb2f-11ea-9e86-0242ac1c0002\"]);\n",
              "//# sourceURL=js_220ce793a7"
            ],
            "text/plain": [
              "<IPython.core.display.Javascript object>"
            ]
          },
          "metadata": {
            "tags": [
              "id12-0-0",
              "outputarea_id12"
            ]
          }
        }
      ]
    },
    {
      "cell_type": "code",
      "metadata": {
        "id": "PYOVI3AO2McQ",
        "colab_type": "code",
        "colab": {}
      },
      "source": [
        ""
      ],
      "execution_count": null,
      "outputs": []
    }
  ]
}